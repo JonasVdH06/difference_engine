{
  "cells": [
    {
      "cell_type": "code",
      "execution_count": 17,
      "metadata": {
        "colab": {
          "base_uri": "https://localhost:8080/"
        },
        "id": "W28sDKRrnpa_",
        "outputId": "513bf3aa-4144-4da1-b899-2d1e549bce00"
      },
      "outputs": [],
      "source": [
        "import numpy as np"
      ]
    },
    {
      "cell_type": "code",
      "execution_count": 18,
      "metadata": {},
      "outputs": [],
      "source": [
        "num = int(input(\"enter a positive integer: \"))\n",
        "\n",
        "prev_d1 = 3\n",
        "d2 = 2\n",
        "\n",
        "prev_square = 4\n",
        "i = 3\n",
        "next_square = 0\n",
        "num_square = 0"
      ]
    },
    {
      "cell_type": "code",
      "execution_count": 19,
      "metadata": {},
      "outputs": [
        {
          "name": "stdout",
          "output_type": "stream",
          "text": [
            "144\n"
          ]
        }
      ],
      "source": [
        "while i <= num:\n",
        "    next_square = prev_square + prev_d1 +d2\n",
        "\n",
        "    i += 1\n",
        "    prev_square = next_square\n",
        "    prev_d1 = prev_d1 + 2\n",
        "\n",
        "    if i == num + 1:\n",
        "        num_square = prev_square\n",
        "        print(num_square)\n",
        "        \n"
      ]
    }
  ],
  "metadata": {
    "colab": {
      "authorship_tag": "ABX9TyMpK6gtWOBEsFYzx9uoVqgo",
      "include_colab_link": true,
      "provenance": []
    },
    "kernelspec": {
      "display_name": "Python 3",
      "name": "python3"
    },
    "language_info": {
      "codemirror_mode": {
        "name": "ipython",
        "version": 3
      },
      "file_extension": ".py",
      "mimetype": "text/x-python",
      "name": "python",
      "nbconvert_exporter": "python",
      "pygments_lexer": "ipython3",
      "version": "3.12.1"
    }
  },
  "nbformat": 4,
  "nbformat_minor": 0
}
